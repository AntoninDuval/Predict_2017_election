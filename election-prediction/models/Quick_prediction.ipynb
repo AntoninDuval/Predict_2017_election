{
 "cells": [
  {
   "cell_type": "code",
   "execution_count": 5,
   "metadata": {},
   "outputs": [],
   "source": [
    "import pandas as pd\n",
    "import numpy as np\n",
    "\n",
    "from sklearn.linear_model import LogisticRegression\n",
    "from sklearn.ensemble import RandomForestClassifier\n",
    "from sklearn.model_selection import GridSearchCV,train_test_split\n",
    "from sklearn.preprocessing import scale, StandardScaler,FunctionTransformer\n",
    "from sklearn.metrics import roc_curve, auc,confusion_matrix,roc_auc_score,precision_recall_curve\n",
    "\n",
    "import matplotlib.pyplot as plt\n",
    "#import shap"
   ]
  },
  {
   "cell_type": "code",
   "execution_count": 6,
   "metadata": {},
   "outputs": [],
   "source": [
    "election = pd.read_csv('../data/clean_s_round_elect_results.csv', sep=',')\n",
    "demographie = pd.read_csv('../data/data_demographie_clean.csv', sep=';').drop('Label',1)\n",
    "education = pd.read_csv('../data/data_education_clean.csv', sep=';')\n",
    "immobilier = pd.read_csv('../data/data_immobilier_clean.csv', sep=';').drop('Label',1)\n",
    "\n",
    "mdb = pd.read_csv(\"../data/mdb_clean.csv\", dtype = {'Code Insee': str})"
   ]
  },
  {
   "cell_type": "code",
   "execution_count": 7,
   "metadata": {},
   "outputs": [
    {
     "name": "stdout",
     "output_type": "stream",
     "text": [
      "(35393, 6)\n",
      "(34915, 14)\n",
      "(34947, 6)\n",
      "(34947, 8)\n",
      "(36677, 97)\n"
     ]
    }
   ],
   "source": [
    "print(election.shape)\n",
    "print(demographie.shape)\n",
    "print(education.shape)\n",
    "print(immobilier.shape)\n",
    "\n",
    "print(mdb.shape)"
   ]
  },
  {
   "cell_type": "code",
   "execution_count": 8,
   "metadata": {},
   "outputs": [
    {
     "data": {
      "text/plain": [
       "(34915, 32)"
      ]
     },
     "execution_count": 8,
     "metadata": {},
     "output_type": "execute_result"
    }
   ],
   "source": [
    "df_final = demographie.merge(election, how='inner', left_on='Code', right_on='Code Insee')\n",
    "df_final = df_final.merge(education, how='inner', left_on='Code', right_on='Code')\n",
    "df_final = df_final.merge(immobilier, how='inner', left_on='Code', right_on='Code')\n",
    "df_final.shape"
   ]
  },
  {
   "cell_type": "code",
   "execution_count": 9,
   "metadata": {},
   "outputs": [],
   "source": [
    "# We create a target column called 'winner'\n",
    "df_final['winner']= np.where(df_final['LE PEN'] > df_final['MACRON'], 0, 1)\n",
    "# We remove unwanted features\n",
    "df_final = df_final.drop(['Inscrits','Libellé de la commune','% Abs/Ins','MACRON','LE PEN','libellé','Code Insee'],1)"
   ]
  },
  {
   "cell_type": "code",
   "execution_count": 10,
   "metadata": {},
   "outputs": [],
   "source": [
    "Code = df_final['Code']\n",
    "df_final = df_final.drop('Code',1)"
   ]
  },
  {
   "cell_type": "code",
   "execution_count": 11,
   "metadata": {},
   "outputs": [
    {
     "name": "stdout",
     "output_type": "stream",
     "text": [
      "(34915, 25)\n",
      "(9073, 25)\n",
      "(25842, 25)\n"
     ]
    }
   ],
   "source": [
    "print(df_final.shape)\n",
    "print(df_final[df_final['winner'] == 0].shape)\n",
    "print(df_final[df_final['winner'] == 1].shape)"
   ]
  },
  {
   "cell_type": "code",
   "execution_count": 12,
   "metadata": {},
   "outputs": [],
   "source": [
    "X = df_final.drop(['winner'],1)\n",
    "y = df_final['winner']"
   ]
  },
  {
   "cell_type": "code",
   "execution_count": 73,
   "metadata": {},
   "outputs": [],
   "source": [
    "x_train, x_test, y_train, y_test = train_test_split(X, y, test_size=0.33, random_state=42)"
   ]
  },
  {
   "cell_type": "code",
   "execution_count": 14,
   "metadata": {},
   "outputs": [],
   "source": [
    "\"\"\"\n",
    "df_final = df_final.sort_values(['winner'])\n",
    "\n",
    "x_train_le_pen = df_final.iloc[:7000,:-1]\n",
    "x_train_macron = df_final.iloc[9073:18000,:-1]\n",
    "\n",
    "y_train_le_pen = df_final.iloc[:7000,-1]\n",
    "y_train_macron = df_final.iloc[9073:18000,-1]\n",
    "\n",
    "x_train = pd.concat([x_train_le_pen,x_train_macron])\n",
    "y_train = pd.concat([y_train_le_pen,y_train_macron])\n",
    "\n",
    "x_test_le_pen = df_final.iloc[7000:9073,:-1]\n",
    "x_test_macron = df_final.iloc[18000:21000,:-1]\n",
    "\n",
    "y_test_le_pen = df_final.iloc[7000:9073,-1]\n",
    "y_test_macron = df_final.iloc[18000:21000,-1]\n",
    "\n",
    "x_test = pd.concat([x_test_le_pen,x_test_macron])\n",
    "y_test = pd.concat([y_test_le_pen,y_test_macron])\n",
    "\"\"\""
   ]
  },
  {
   "cell_type": "code",
   "execution_count": 74,
   "metadata": {},
   "outputs": [
    {
     "name": "stdout",
     "output_type": "stream",
     "text": [
      "(23393, 24)\n",
      "(23393,)\n",
      "(11522, 24)\n",
      "(11522,)\n"
     ]
    }
   ],
   "source": [
    "print(x_train.shape)\n",
    "print(y_train.shape)\n",
    "print(x_test.shape)\n",
    "print(y_test.shape)"
   ]
  },
  {
   "cell_type": "code",
   "execution_count": 75,
   "metadata": {},
   "outputs": [
    {
     "name": "stdout",
     "output_type": "stream",
     "text": [
      "Ratio de valeur positive dans la target :  0.7416748600008549\n"
     ]
    }
   ],
   "source": [
    "print('Ratio de valeur positive dans la target : ',y_train[y==1].shape[0]/y_train.shape[0])"
   ]
  },
  {
   "cell_type": "code",
   "execution_count": 76,
   "metadata": {},
   "outputs": [],
   "source": [
    "#We use sklearn scaler for scaling our data quickly\n",
    "scaler = StandardScaler()\n",
    "clf_rf = RandomForestClassifier()\n",
    "clf_lr = LogisticRegression(solver='liblinear')\n",
    "\n",
    "scaler.fit(x_train)\n",
    "x_train = scaler.transform(x_train)\n",
    "x_test= scaler.transform(x_test)"
   ]
  },
  {
   "cell_type": "code",
   "execution_count": 77,
   "metadata": {},
   "outputs": [
    {
     "data": {
      "text/html": [
       "<div>\n",
       "<style scoped>\n",
       "    .dataframe tbody tr th:only-of-type {\n",
       "        vertical-align: middle;\n",
       "    }\n",
       "\n",
       "    .dataframe tbody tr th {\n",
       "        vertical-align: top;\n",
       "    }\n",
       "\n",
       "    .dataframe thead th {\n",
       "        text-align: right;\n",
       "    }\n",
       "</style>\n",
       "<table border=\"1\" class=\"dataframe\">\n",
       "  <thead>\n",
       "    <tr style=\"text-align: right;\">\n",
       "      <th></th>\n",
       "      <th>0</th>\n",
       "      <th>1</th>\n",
       "      <th>2</th>\n",
       "      <th>3</th>\n",
       "      <th>4</th>\n",
       "    </tr>\n",
       "  </thead>\n",
       "  <tbody>\n",
       "    <tr>\n",
       "      <td>mean_fit_time</td>\n",
       "      <td>0.121939</td>\n",
       "      <td>0.17252</td>\n",
       "      <td>0.206967</td>\n",
       "      <td>0.209451</td>\n",
       "      <td>0.226393</td>\n",
       "    </tr>\n",
       "    <tr>\n",
       "      <td>std_fit_time</td>\n",
       "      <td>0.0146602</td>\n",
       "      <td>0.00433488</td>\n",
       "      <td>0.00795282</td>\n",
       "      <td>0.0124203</td>\n",
       "      <td>0.0126257</td>\n",
       "    </tr>\n",
       "    <tr>\n",
       "      <td>mean_score_time</td>\n",
       "      <td>0.00100005</td>\n",
       "      <td>0.000986028</td>\n",
       "      <td>0.000985694</td>\n",
       "      <td>0.000989604</td>\n",
       "      <td>0.00109093</td>\n",
       "    </tr>\n",
       "    <tr>\n",
       "      <td>std_score_time</td>\n",
       "      <td>2.30811e-05</td>\n",
       "      <td>1.48724e-05</td>\n",
       "      <td>1.73493e-05</td>\n",
       "      <td>0.000441734</td>\n",
       "      <td>0.000301654</td>\n",
       "    </tr>\n",
       "    <tr>\n",
       "      <td>param_C</td>\n",
       "      <td>0.001</td>\n",
       "      <td>0.01</td>\n",
       "      <td>0.05</td>\n",
       "      <td>0.1</td>\n",
       "      <td>1</td>\n",
       "    </tr>\n",
       "    <tr>\n",
       "      <td>params</td>\n",
       "      <td>{'C': 0.001}</td>\n",
       "      <td>{'C': 0.01}</td>\n",
       "      <td>{'C': 0.05}</td>\n",
       "      <td>{'C': 0.1}</td>\n",
       "      <td>{'C': 1.0}</td>\n",
       "    </tr>\n",
       "    <tr>\n",
       "      <td>split0_test_score</td>\n",
       "      <td>0.798291</td>\n",
       "      <td>0.801282</td>\n",
       "      <td>0.799573</td>\n",
       "      <td>0.8</td>\n",
       "      <td>0.800427</td>\n",
       "    </tr>\n",
       "    <tr>\n",
       "      <td>split1_test_score</td>\n",
       "      <td>0.789744</td>\n",
       "      <td>0.79188</td>\n",
       "      <td>0.789744</td>\n",
       "      <td>0.790598</td>\n",
       "      <td>0.791026</td>\n",
       "    </tr>\n",
       "    <tr>\n",
       "      <td>split2_test_score</td>\n",
       "      <td>0.785043</td>\n",
       "      <td>0.790171</td>\n",
       "      <td>0.787607</td>\n",
       "      <td>0.788462</td>\n",
       "      <td>0.788462</td>\n",
       "    </tr>\n",
       "    <tr>\n",
       "      <td>split3_test_score</td>\n",
       "      <td>0.769987</td>\n",
       "      <td>0.771697</td>\n",
       "      <td>0.772552</td>\n",
       "      <td>0.773407</td>\n",
       "      <td>0.773835</td>\n",
       "    </tr>\n",
       "    <tr>\n",
       "      <td>split4_test_score</td>\n",
       "      <td>0.777683</td>\n",
       "      <td>0.778538</td>\n",
       "      <td>0.77982</td>\n",
       "      <td>0.779393</td>\n",
       "      <td>0.779393</td>\n",
       "    </tr>\n",
       "    <tr>\n",
       "      <td>split5_test_score</td>\n",
       "      <td>0.780676</td>\n",
       "      <td>0.785378</td>\n",
       "      <td>0.784096</td>\n",
       "      <td>0.784096</td>\n",
       "      <td>0.784096</td>\n",
       "    </tr>\n",
       "    <tr>\n",
       "      <td>split6_test_score</td>\n",
       "      <td>0.780248</td>\n",
       "      <td>0.786233</td>\n",
       "      <td>0.786661</td>\n",
       "      <td>0.787088</td>\n",
       "      <td>0.787088</td>\n",
       "    </tr>\n",
       "    <tr>\n",
       "      <td>split7_test_score</td>\n",
       "      <td>0.782813</td>\n",
       "      <td>0.784523</td>\n",
       "      <td>0.784523</td>\n",
       "      <td>0.784096</td>\n",
       "      <td>0.784523</td>\n",
       "    </tr>\n",
       "    <tr>\n",
       "      <td>split8_test_score</td>\n",
       "      <td>0.790081</td>\n",
       "      <td>0.790936</td>\n",
       "      <td>0.789654</td>\n",
       "      <td>0.790509</td>\n",
       "      <td>0.789654</td>\n",
       "    </tr>\n",
       "    <tr>\n",
       "      <td>split9_test_score</td>\n",
       "      <td>0.788799</td>\n",
       "      <td>0.790936</td>\n",
       "      <td>0.790509</td>\n",
       "      <td>0.790509</td>\n",
       "      <td>0.790509</td>\n",
       "    </tr>\n",
       "    <tr>\n",
       "      <td>mean_test_score</td>\n",
       "      <td>0.784337</td>\n",
       "      <td>0.787159</td>\n",
       "      <td>0.786475</td>\n",
       "      <td>0.786817</td>\n",
       "      <td>0.786902</td>\n",
       "    </tr>\n",
       "    <tr>\n",
       "      <td>std_test_score</td>\n",
       "      <td>0.00748334</td>\n",
       "      <td>0.00764033</td>\n",
       "      <td>0.00676414</td>\n",
       "      <td>0.00684026</td>\n",
       "      <td>0.00680941</td>\n",
       "    </tr>\n",
       "    <tr>\n",
       "      <td>rank_test_score</td>\n",
       "      <td>5</td>\n",
       "      <td>1</td>\n",
       "      <td>4</td>\n",
       "      <td>3</td>\n",
       "      <td>2</td>\n",
       "    </tr>\n",
       "    <tr>\n",
       "      <td>split0_train_score</td>\n",
       "      <td>0.782501</td>\n",
       "      <td>0.784924</td>\n",
       "      <td>0.785304</td>\n",
       "      <td>0.785826</td>\n",
       "      <td>0.785826</td>\n",
       "    </tr>\n",
       "    <tr>\n",
       "      <td>split1_train_score</td>\n",
       "      <td>0.784164</td>\n",
       "      <td>0.786206</td>\n",
       "      <td>0.786681</td>\n",
       "      <td>0.786776</td>\n",
       "      <td>0.787204</td>\n",
       "    </tr>\n",
       "    <tr>\n",
       "      <td>split2_train_score</td>\n",
       "      <td>0.784639</td>\n",
       "      <td>0.786919</td>\n",
       "      <td>0.787299</td>\n",
       "      <td>0.787299</td>\n",
       "      <td>0.787394</td>\n",
       "    </tr>\n",
       "    <tr>\n",
       "      <td>split3_train_score</td>\n",
       "      <td>0.787071</td>\n",
       "      <td>0.788781</td>\n",
       "      <td>0.789684</td>\n",
       "      <td>0.789921</td>\n",
       "      <td>0.789969</td>\n",
       "    </tr>\n",
       "    <tr>\n",
       "      <td>split4_train_score</td>\n",
       "      <td>0.785504</td>\n",
       "      <td>0.788449</td>\n",
       "      <td>0.788639</td>\n",
       "      <td>0.788876</td>\n",
       "      <td>0.788876</td>\n",
       "    </tr>\n",
       "    <tr>\n",
       "      <td>split5_train_score</td>\n",
       "      <td>0.784602</td>\n",
       "      <td>0.787071</td>\n",
       "      <td>0.787261</td>\n",
       "      <td>0.787309</td>\n",
       "      <td>0.787499</td>\n",
       "    </tr>\n",
       "    <tr>\n",
       "      <td>split6_train_score</td>\n",
       "      <td>0.784791</td>\n",
       "      <td>0.787404</td>\n",
       "      <td>0.787594</td>\n",
       "      <td>0.787831</td>\n",
       "      <td>0.787641</td>\n",
       "    </tr>\n",
       "    <tr>\n",
       "      <td>split7_train_score</td>\n",
       "      <td>0.785361</td>\n",
       "      <td>0.787641</td>\n",
       "      <td>0.787641</td>\n",
       "      <td>0.787594</td>\n",
       "      <td>0.787546</td>\n",
       "    </tr>\n",
       "    <tr>\n",
       "      <td>split8_train_score</td>\n",
       "      <td>0.783842</td>\n",
       "      <td>0.786739</td>\n",
       "      <td>0.786786</td>\n",
       "      <td>0.786881</td>\n",
       "      <td>0.787024</td>\n",
       "    </tr>\n",
       "    <tr>\n",
       "      <td>split9_train_score</td>\n",
       "      <td>0.783129</td>\n",
       "      <td>0.786501</td>\n",
       "      <td>0.786359</td>\n",
       "      <td>0.786691</td>\n",
       "      <td>0.786596</td>\n",
       "    </tr>\n",
       "    <tr>\n",
       "      <td>mean_train_score</td>\n",
       "      <td>0.78456</td>\n",
       "      <td>0.787064</td>\n",
       "      <td>0.787325</td>\n",
       "      <td>0.787501</td>\n",
       "      <td>0.787558</td>\n",
       "    </tr>\n",
       "    <tr>\n",
       "      <td>std_train_score</td>\n",
       "      <td>0.00121904</td>\n",
       "      <td>0.00105238</td>\n",
       "      <td>0.00114846</td>\n",
       "      <td>0.00110966</td>\n",
       "      <td>0.00109184</td>\n",
       "    </tr>\n",
       "  </tbody>\n",
       "</table>\n",
       "</div>"
      ],
      "text/plain": [
       "                               0            1            2            3  \\\n",
       "mean_fit_time           0.121939      0.17252     0.206967     0.209451   \n",
       "std_fit_time           0.0146602   0.00433488   0.00795282    0.0124203   \n",
       "mean_score_time       0.00100005  0.000986028  0.000985694  0.000989604   \n",
       "std_score_time       2.30811e-05  1.48724e-05  1.73493e-05  0.000441734   \n",
       "param_C                    0.001         0.01         0.05          0.1   \n",
       "params              {'C': 0.001}  {'C': 0.01}  {'C': 0.05}   {'C': 0.1}   \n",
       "split0_test_score       0.798291     0.801282     0.799573          0.8   \n",
       "split1_test_score       0.789744      0.79188     0.789744     0.790598   \n",
       "split2_test_score       0.785043     0.790171     0.787607     0.788462   \n",
       "split3_test_score       0.769987     0.771697     0.772552     0.773407   \n",
       "split4_test_score       0.777683     0.778538      0.77982     0.779393   \n",
       "split5_test_score       0.780676     0.785378     0.784096     0.784096   \n",
       "split6_test_score       0.780248     0.786233     0.786661     0.787088   \n",
       "split7_test_score       0.782813     0.784523     0.784523     0.784096   \n",
       "split8_test_score       0.790081     0.790936     0.789654     0.790509   \n",
       "split9_test_score       0.788799     0.790936     0.790509     0.790509   \n",
       "mean_test_score         0.784337     0.787159     0.786475     0.786817   \n",
       "std_test_score        0.00748334   0.00764033   0.00676414   0.00684026   \n",
       "rank_test_score                5            1            4            3   \n",
       "split0_train_score      0.782501     0.784924     0.785304     0.785826   \n",
       "split1_train_score      0.784164     0.786206     0.786681     0.786776   \n",
       "split2_train_score      0.784639     0.786919     0.787299     0.787299   \n",
       "split3_train_score      0.787071     0.788781     0.789684     0.789921   \n",
       "split4_train_score      0.785504     0.788449     0.788639     0.788876   \n",
       "split5_train_score      0.784602     0.787071     0.787261     0.787309   \n",
       "split6_train_score      0.784791     0.787404     0.787594     0.787831   \n",
       "split7_train_score      0.785361     0.787641     0.787641     0.787594   \n",
       "split8_train_score      0.783842     0.786739     0.786786     0.786881   \n",
       "split9_train_score      0.783129     0.786501     0.786359     0.786691   \n",
       "mean_train_score         0.78456     0.787064     0.787325     0.787501   \n",
       "std_train_score       0.00121904   0.00105238   0.00114846   0.00110966   \n",
       "\n",
       "                              4  \n",
       "mean_fit_time          0.226393  \n",
       "std_fit_time          0.0126257  \n",
       "mean_score_time      0.00109093  \n",
       "std_score_time      0.000301654  \n",
       "param_C                       1  \n",
       "params               {'C': 1.0}  \n",
       "split0_test_score      0.800427  \n",
       "split1_test_score      0.791026  \n",
       "split2_test_score      0.788462  \n",
       "split3_test_score      0.773835  \n",
       "split4_test_score      0.779393  \n",
       "split5_test_score      0.784096  \n",
       "split6_test_score      0.787088  \n",
       "split7_test_score      0.784523  \n",
       "split8_test_score      0.789654  \n",
       "split9_test_score      0.790509  \n",
       "mean_test_score        0.786902  \n",
       "std_test_score       0.00680941  \n",
       "rank_test_score               2  \n",
       "split0_train_score     0.785826  \n",
       "split1_train_score     0.787204  \n",
       "split2_train_score     0.787394  \n",
       "split3_train_score     0.789969  \n",
       "split4_train_score     0.788876  \n",
       "split5_train_score     0.787499  \n",
       "split6_train_score     0.787641  \n",
       "split7_train_score     0.787546  \n",
       "split8_train_score     0.787024  \n",
       "split9_train_score     0.786596  \n",
       "mean_train_score       0.787558  \n",
       "std_train_score      0.00109184  "
      ]
     },
     "execution_count": 77,
     "metadata": {},
     "output_type": "execute_result"
    }
   ],
   "source": [
    "# Find best parameters for random forrest on cross val\n",
    "param_grid_rf = {\"n_estimators\" : [100,200],\n",
    "                 \"max_depth\" : [2,3]\n",
    "                }\n",
    "gridsearch_rf = GridSearchCV(clf_rf,param_grid=param_grid_rf, \n",
    "                             cv=10, \n",
    "                             scoring='accuracy', \n",
    "                             return_train_score=True,\n",
    "                             refit=True)\n",
    "# Find best parameters for logistic regression on cross val\n",
    "param_grid_lr = {\"C\" : [0.001,0.01,0.05,0.1,1.0]}\n",
    "gridsearch_lr = GridSearchCV(clf_lr,param_grid=param_grid_lr, \n",
    "                             cv=10, \n",
    "                             scoring='accuracy', \n",
    "                             return_train_score=True,\n",
    "                             refit=True)\n",
    "\n",
    "\n",
    "gridsearch_lr.fit(x_train, y_train.values.ravel())\n",
    "pd.DataFrame(gridsearch_lr.cv_results_).T"
   ]
  },
  {
   "cell_type": "code",
   "execution_count": 78,
   "metadata": {},
   "outputs": [
    {
     "data": {
      "text/plain": [
       "LogisticRegression(C=0.1, class_weight=None, dual=False, fit_intercept=True,\n",
       "                   intercept_scaling=1, l1_ratio=None, max_iter=100,\n",
       "                   multi_class='warn', n_jobs=None, penalty='l2',\n",
       "                   random_state=None, solver='liblinear', tol=0.0001, verbose=0,\n",
       "                   warm_start=False)"
      ]
     },
     "execution_count": 78,
     "metadata": {},
     "output_type": "execute_result"
    }
   ],
   "source": [
    "clf_rf = RandomForestClassifier(n_estimators = 400,max_depth = 3)\n",
    "clf_lr = clf_lr = LogisticRegression(solver='liblinear', C=0.1)\n",
    "\n",
    "clf_rf.fit(x_train,y_train)\n",
    "clf_lr.fit(x_train,y_train)"
   ]
  },
  {
   "cell_type": "code",
   "execution_count": 79,
   "metadata": {},
   "outputs": [
    {
     "data": {
      "text/html": [
       "<div>\n",
       "<style scoped>\n",
       "    .dataframe tbody tr th:only-of-type {\n",
       "        vertical-align: middle;\n",
       "    }\n",
       "\n",
       "    .dataframe tbody tr th {\n",
       "        vertical-align: top;\n",
       "    }\n",
       "\n",
       "    .dataframe thead th {\n",
       "        text-align: right;\n",
       "    }\n",
       "</style>\n",
       "<table border=\"1\" class=\"dataframe\">\n",
       "  <thead>\n",
       "    <tr style=\"text-align: right;\">\n",
       "      <th></th>\n",
       "      <th>column</th>\n",
       "      <th>importancy_rf</th>\n",
       "      <th>importancy_lr</th>\n",
       "    </tr>\n",
       "  </thead>\n",
       "  <tbody>\n",
       "    <tr>\n",
       "      <td>0</td>\n",
       "      <td>pop</td>\n",
       "      <td>0.052389</td>\n",
       "      <td>0.549178</td>\n",
       "    </tr>\n",
       "    <tr>\n",
       "      <td>1</td>\n",
       "      <td>1_child-25</td>\n",
       "      <td>0.001473</td>\n",
       "      <td>-0.093627</td>\n",
       "    </tr>\n",
       "    <tr>\n",
       "      <td>2</td>\n",
       "      <td>Indice_vieillissement</td>\n",
       "      <td>0.075003</td>\n",
       "      <td>-0.157023</td>\n",
       "    </tr>\n",
       "    <tr>\n",
       "      <td>3</td>\n",
       "      <td>density_pop</td>\n",
       "      <td>0.010263</td>\n",
       "      <td>-0.014304</td>\n",
       "    </tr>\n",
       "    <tr>\n",
       "      <td>4</td>\n",
       "      <td>evol_pop</td>\n",
       "      <td>0.002021</td>\n",
       "      <td>0.036786</td>\n",
       "    </tr>\n",
       "    <tr>\n",
       "      <td>5</td>\n",
       "      <td>pop-15y</td>\n",
       "      <td>0.021423</td>\n",
       "      <td>0.142862</td>\n",
       "    </tr>\n",
       "    <tr>\n",
       "      <td>6</td>\n",
       "      <td>pop-25y</td>\n",
       "      <td>0.050883</td>\n",
       "      <td>-0.438049</td>\n",
       "    </tr>\n",
       "    <tr>\n",
       "      <td>7</td>\n",
       "      <td>pop-64y</td>\n",
       "      <td>0.004592</td>\n",
       "      <td>-0.192779</td>\n",
       "    </tr>\n",
       "    <tr>\n",
       "      <td>8</td>\n",
       "      <td>pop+65y</td>\n",
       "      <td>0.105099</td>\n",
       "      <td>0.494847</td>\n",
       "    </tr>\n",
       "    <tr>\n",
       "      <td>9</td>\n",
       "      <td>fmly_no_child-25</td>\n",
       "      <td>0.014966</td>\n",
       "      <td>0.006897</td>\n",
       "    </tr>\n",
       "    <tr>\n",
       "      <td>10</td>\n",
       "      <td>fmly_2_child-25</td>\n",
       "      <td>0.002169</td>\n",
       "      <td>0.016091</td>\n",
       "    </tr>\n",
       "    <tr>\n",
       "      <td>11</td>\n",
       "      <td>fmly_3_child-25</td>\n",
       "      <td>0.008221</td>\n",
       "      <td>0.036590</td>\n",
       "    </tr>\n",
       "    <tr>\n",
       "      <td>12</td>\n",
       "      <td>mean_familiy_size</td>\n",
       "      <td>0.061103</td>\n",
       "      <td>-0.242451</td>\n",
       "    </tr>\n",
       "    <tr>\n",
       "      <td>13</td>\n",
       "      <td>ratio_no_diploma</td>\n",
       "      <td>0.133126</td>\n",
       "      <td>-0.565044</td>\n",
       "    </tr>\n",
       "    <tr>\n",
       "      <td>14</td>\n",
       "      <td>ratio_CAP_BEP</td>\n",
       "      <td>0.088948</td>\n",
       "      <td>-0.303741</td>\n",
       "    </tr>\n",
       "    <tr>\n",
       "      <td>15</td>\n",
       "      <td>ratio_bac</td>\n",
       "      <td>0.009242</td>\n",
       "      <td>-0.045592</td>\n",
       "    </tr>\n",
       "    <tr>\n",
       "      <td>16</td>\n",
       "      <td>ratio_etude_sup</td>\n",
       "      <td>0.234600</td>\n",
       "      <td>0.704466</td>\n",
       "    </tr>\n",
       "    <tr>\n",
       "      <td>17</td>\n",
       "      <td>res_princ_46</td>\n",
       "      <td>0.025202</td>\n",
       "      <td>-0.254518</td>\n",
       "    </tr>\n",
       "    <tr>\n",
       "      <td>18</td>\n",
       "      <td>res_princ</td>\n",
       "      <td>0.018716</td>\n",
       "      <td>-0.115354</td>\n",
       "    </tr>\n",
       "    <tr>\n",
       "      <td>19</td>\n",
       "      <td>res_second</td>\n",
       "      <td>0.015284</td>\n",
       "      <td>0.119330</td>\n",
       "    </tr>\n",
       "    <tr>\n",
       "      <td>20</td>\n",
       "      <td>log_vacants</td>\n",
       "      <td>0.001033</td>\n",
       "      <td>0.088291</td>\n",
       "    </tr>\n",
       "    <tr>\n",
       "      <td>21</td>\n",
       "      <td>appt</td>\n",
       "      <td>0.031108</td>\n",
       "      <td>-0.156447</td>\n",
       "    </tr>\n",
       "    <tr>\n",
       "      <td>22</td>\n",
       "      <td>propr</td>\n",
       "      <td>0.002358</td>\n",
       "      <td>-0.061570</td>\n",
       "    </tr>\n",
       "    <tr>\n",
       "      <td>23</td>\n",
       "      <td>hlm</td>\n",
       "      <td>0.030776</td>\n",
       "      <td>0.171666</td>\n",
       "    </tr>\n",
       "  </tbody>\n",
       "</table>\n",
       "</div>"
      ],
      "text/plain": [
       "                   column  importancy_rf  importancy_lr\n",
       "0                     pop       0.052389       0.549178\n",
       "1              1_child-25       0.001473      -0.093627\n",
       "2   Indice_vieillissement       0.075003      -0.157023\n",
       "3             density_pop       0.010263      -0.014304\n",
       "4                evol_pop       0.002021       0.036786\n",
       "5                 pop-15y       0.021423       0.142862\n",
       "6                 pop-25y       0.050883      -0.438049\n",
       "7                 pop-64y       0.004592      -0.192779\n",
       "8                 pop+65y       0.105099       0.494847\n",
       "9        fmly_no_child-25       0.014966       0.006897\n",
       "10        fmly_2_child-25       0.002169       0.016091\n",
       "11        fmly_3_child-25       0.008221       0.036590\n",
       "12      mean_familiy_size       0.061103      -0.242451\n",
       "13       ratio_no_diploma       0.133126      -0.565044\n",
       "14          ratio_CAP_BEP       0.088948      -0.303741\n",
       "15              ratio_bac       0.009242      -0.045592\n",
       "16        ratio_etude_sup       0.234600       0.704466\n",
       "17           res_princ_46       0.025202      -0.254518\n",
       "18              res_princ       0.018716      -0.115354\n",
       "19             res_second       0.015284       0.119330\n",
       "20            log_vacants       0.001033       0.088291\n",
       "21                   appt       0.031108      -0.156447\n",
       "22                  propr       0.002358      -0.061570\n",
       "23                    hlm       0.030776       0.171666"
      ]
     },
     "execution_count": 79,
     "metadata": {},
     "output_type": "execute_result"
    }
   ],
   "source": [
    "len(clf_rf.feature_importances_)\n",
    "\n",
    "columns_importancy = pd.DataFrame(X.columns, columns=['column'])\n",
    "columns_importancy['importancy_rf'] = clf_rf.feature_importances_\n",
    "columns_importancy['importancy_lr'] = clf_lr.coef_.T\n",
    "\n",
    "columns_importancy"
   ]
  },
  {
   "cell_type": "code",
   "execution_count": 81,
   "metadata": {},
   "outputs": [
    {
     "ename": "AttributeError",
     "evalue": "'AxesSubplot' object has no attribute 'savefig'",
     "output_type": "error",
     "traceback": [
      "\u001b[1;31m---------------------------------------------------------------------------\u001b[0m",
      "\u001b[1;31mAttributeError\u001b[0m                            Traceback (most recent call last)",
      "\u001b[1;32m<ipython-input-81-8038c82f9f9c>\u001b[0m in \u001b[0;36m<module>\u001b[1;34m\u001b[0m\n\u001b[0;32m      3\u001b[0m \u001b[0max\u001b[0m \u001b[1;33m=\u001b[0m \u001b[0msns\u001b[0m\u001b[1;33m.\u001b[0m\u001b[0mbarplot\u001b[0m\u001b[1;33m(\u001b[0m\u001b[0mx\u001b[0m\u001b[1;33m=\u001b[0m\u001b[1;34m\"importancy_lr\"\u001b[0m\u001b[1;33m,\u001b[0m \u001b[0my\u001b[0m\u001b[1;33m=\u001b[0m\u001b[1;34m\"column\"\u001b[0m\u001b[1;33m,\u001b[0m \u001b[0mdata\u001b[0m\u001b[1;33m=\u001b[0m\u001b[0mcolumns_importancy\u001b[0m\u001b[1;33m)\u001b[0m\u001b[1;33m\u001b[0m\u001b[1;33m\u001b[0m\u001b[0m\n\u001b[0;32m      4\u001b[0m \u001b[1;33m\u001b[0m\u001b[0m\n\u001b[1;32m----> 5\u001b[1;33m \u001b[0max\u001b[0m\u001b[1;33m.\u001b[0m\u001b[0msavefig\u001b[0m\u001b[1;33m(\u001b[0m\u001b[1;34m'feature_importance_logreg.png'\u001b[0m\u001b[1;33m)\u001b[0m\u001b[1;33m\u001b[0m\u001b[1;33m\u001b[0m\u001b[0m\n\u001b[0m",
      "\u001b[1;31mAttributeError\u001b[0m: 'AxesSubplot' object has no attribute 'savefig'"
     ]
    },
    {
     "data": {
      "image/png": "[encoded data removed]",
      "text/plain": [
       "<Figure size 432x288 with 1 Axes>"
      ]
     },
     "metadata": {
      "needs_background": "light"
     },
     "output_type": "display_data"
    }
   ],
   "source": [
    "import seaborn as sns\n",
    "\n",
    "ax = sns.barplot(x=\"importancy_lr\", y=\"column\", data=columns_importancy)"
   ]
  },
  {
   "cell_type": "code",
   "execution_count": 68,
   "metadata": {},
   "outputs": [],
   "source": [
    "y_result = gridsearch_lr.predict_proba(x_test)[:,1]\n",
    "y_train_result = gridsearch_lr.predict_proba(x_train)[:,1]"
   ]
  },
  {
   "cell_type": "markdown",
   "metadata": {},
   "source": [
    "### ROC curve "
   ]
  },
  {
   "cell_type": "code",
   "execution_count": 69,
   "metadata": {},
   "outputs": [],
   "source": [
    "# Get false positive rate and true postive rate on test set\n",
    "fpr, tpr, _ = roc_curve(y_test, y_result)\n",
    "roc_auc = roc_auc_score(y_test, y_result)\n",
    "\n",
    "#On train set\n",
    "fpr_t, tpr_t, _ = roc_curve(y_train, y_train_result)\n",
    "roc_auc_t = roc_auc_score(y_train, y_train_result)"
   ]
  },
  {
   "cell_type": "code",
   "execution_count": 70,
   "metadata": {},
   "outputs": [
    {
     "data": {
      "image/png": "[encoded data removed]",
      "text/plain": [
       "<Figure size 432x288 with 1 Axes>"
      ]
     },
     "metadata": {
      "needs_background": "light"
     },
     "output_type": "display_data"
    }
   ],
   "source": [
    "plt.figure()\n",
    "lw = 2\n",
    "plt.plot(fpr, tpr, color='darkorange',\n",
    "         lw=lw, label='ROC curve test (area = %0.2f)' % roc_auc)\n",
    "plt.plot(fpr_t, tpr_t, color='green',\n",
    "         lw=lw, label='ROC curve train (area = %0.2f)' % roc_auc_t)\n",
    "plt.plot([0, 1], [0, 1], color='navy', lw=lw, linestyle='--')\n",
    "plt.xlim([0.0, 1.0])\n",
    "plt.ylim([0.0, 1.05])\n",
    "plt.xlabel('False Positive Rate')\n",
    "plt.ylabel('True Positive Rate')\n",
    "plt.title('Receiver operating characteristic example')\n",
    "plt.legend(loc=\"lower right\")\n",
    "plt.show()"
   ]
  },
  {
   "cell_type": "code",
   "execution_count": 71,
   "metadata": {},
   "outputs": [],
   "source": [
    "# Using a treshold=0.5, we assign a class for all probability\n",
    "y_result = np.where(y_result > 0.5, 1, 0)\n",
    "y_train_result = np.where(y_train_result > 0.5, 1, 0)"
   ]
  },
  {
   "cell_type": "code",
   "execution_count": 72,
   "metadata": {},
   "outputs": [
    {
     "data": {
      "text/plain": [
       "array([[1343,  730],\n",
       "       [ 728, 2272]], dtype=int64)"
      ]
     },
     "execution_count": 72,
     "metadata": {},
     "output_type": "execute_result"
    }
   ],
   "source": [
    "confusion_matrix(y_test, y_result)"
   ]
  },
  {
   "cell_type": "code",
   "execution_count": 4,
   "metadata": {},
   "outputs": [
    {
     "data": {
      "text/plain": [
       "7"
      ]
     },
     "execution_count": 4,
     "metadata": {},
     "output_type": "execute_result"
    }
   ],
   "source": [
    "15 - round(15/2)"
   ]
  },
  {
   "cell_type": "code",
   "execution_count": 20,
   "metadata": {},
   "outputs": [],
   "source": [
    "a= (3,6,2,8,9)\n",
    "b= (4,4,2,5,7)\n",
    "c= ()"
   ]
  },
  {
   "cell_type": "code",
   "execution_count": 27,
   "metadata": {},
   "outputs": [],
   "source": [
    "c += a\n",
    "c += b"
   ]
  },
  {
   "cell_type": "code",
   "execution_count": 52,
   "metadata": {},
   "outputs": [
    {
     "name": "stdout",
     "output_type": "stream",
     "text": [
      "0\n",
      "1\n",
      "2\n",
      "3\n"
     ]
    }
   ],
   "source": [
    "for i in range(int(len(c)/5)):\n",
    "    print(i)"
   ]
  },
  {
   "cell_type": "code",
   "execution_count": 54,
   "metadata": {},
   "outputs": [
    {
     "data": {
      "text/plain": [
       "4.0"
      ]
     },
     "execution_count": 54,
     "metadata": {},
     "output_type": "execute_result"
    }
   ],
   "source": [
    "if value  == ((len(c)/5)-1)"
   ]
  },
  {
   "cell_type": "code",
   "execution_count": 36,
   "metadata": {},
   "outputs": [
    {
     "data": {
      "text/plain": [
       "30"
      ]
     },
     "execution_count": 36,
     "metadata": {},
     "output_type": "execute_result"
    }
   ],
   "source": [
    "len((19, 19, 5, 18, 19, 19, 19, 5, 19, 18, 19, 19, 5, 18, 18, 19, 19, 5, 18, 19, 19, 19, 5, 19, 18, 19, 19, 5, 18, 18))"
   ]
  },
  {
   "cell_type": "code",
   "execution_count": 46,
   "metadata": {},
   "outputs": [],
   "source": [
    "a = (0,0)\n",
    "\n",
    "all_move = ()\n",
    "\n",
    "move_possible = []\n",
    "if a[0] > 0:\n",
    "    move_possible.append([-1,0])\n",
    "if a[1] > 0:\n",
    "    move_possible.append([0,-1])\n",
    "if a[0] < 20:\n",
    "    move_possible.append([1,0])\n",
    "if a[1] < 20:\n",
    "    move_possible.append([0,1])\n",
    "if a[0] > 0 and a[1] > 0:\n",
    "    move_possible.append([-1,-1])\n",
    "if a[0] > 0 and a[1] < 20:\n",
    "    move_possible.append([-1,1])\n",
    "if a[0] < 20 and a[1] > 0:\n",
    "    move_possible.append([1,-1])\n",
    "if a[0] < 20 and a[1] < 20:\n",
    "    move_possible.append([1,1])\n",
    "        \n"
   ]
  },
  {
   "cell_type": "code",
   "execution_count": 51,
   "metadata": {},
   "outputs": [
    {
     "name": "stdout",
     "output_type": "stream",
     "text": [
      "([1, 0], [0, 1])\n",
      "([1, 0], [1, 1])\n",
      "([0, 1], [1, 1])\n"
     ]
    }
   ],
   "source": [
    "from itertools import combinations\n",
    "\n",
    "for i in combinations(move_possible,2):\n",
    "    print(i)\n",
    "\n"
   ]
  },
  {
   "cell_type": "code",
   "execution_count": 64,
   "metadata": {},
   "outputs": [
    {
     "name": "stdout",
     "output_type": "stream",
     "text": [
      "([(0, 1), (3, 1), (1, 1)],)\n",
      "([(5, 6), (6, 5), (0, 1)],)\n"
     ]
    }
   ],
   "source": [
    "list1=[(0,1),(3,1),(1,1)]\n",
    "list2=[(5,6),(6,5),(0,1)]\n",
    "\n",
    "\n",
    "\n",
    "for i in list(itertools.product(list1, list2)):\n",
    "    print(i[0]+i[1])"
   ]
  }
 ],
 "metadata": {
  "kernelspec": {
   "display_name": "Python 3",
   "language": "python",
   "name": "python3"
  },
  "language_info": {
   "codemirror_mode": {
    "name": "ipython",
    "version": 3
   },
   "file_extension": ".py",
   "mimetype": "text/x-python",
   "name": "python",
   "nbconvert_exporter": "python",
   "pygments_lexer": "ipython3",
   "version": "3.6.4"
  }
 },
 "nbformat": 4,
 "nbformat_minor": 2
}
